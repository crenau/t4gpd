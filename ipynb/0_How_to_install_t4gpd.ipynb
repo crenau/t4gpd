{
 "cells": [
  {
   "cell_type": "markdown",
   "metadata": {},
   "source": [
    "# Introduction\n",
    "The purpose of this notebook is to show you how to install the python plugin **t4gpd**. The t4gpd tool relies on various libraries such as GeoPandas or Shapely. It assumes that you have installed a 3.x version of Python."
   ]
  },
  {
   "cell_type": "markdown",
   "metadata": {},
   "source": [
    "# Example of an installation in the context of a Jupyter notebook"
   ]
  },
  {
   "cell_type": "code",
   "execution_count": 5,
   "metadata": {},
   "outputs": [
    {
     "name": "stdout",
     "output_type": "stream",
     "text": [
      "--2020-06-28 22:54:43--  https://www.dropbox.com/s/mgz078nhrp0k1j0/t4gpd-0.1.0.tar.gz?dl=0\n",
      "Résolution de www.dropbox.com (www.dropbox.com)… 162.125.67.1, 2620:100:6023:1::a27d:4301\n",
      "Connexion à www.dropbox.com (www.dropbox.com)|162.125.67.1|:443… connecté.\n",
      "requête HTTP transmise, en attente de la réponse… 301 Moved Permanently\n",
      "Emplacement : /s/raw/mgz078nhrp0k1j0/t4gpd-0.1.0.tar.gz [suivant]\n",
      "--2020-06-28 22:54:44--  https://www.dropbox.com/s/raw/mgz078nhrp0k1j0/t4gpd-0.1.0.tar.gz\n",
      "Réutilisation de la connexion existante à www.dropbox.com:443.\n",
      "requête HTTP transmise, en attente de la réponse… 302 Found\n",
      "Emplacement : https://uc6cc72b0afdaff16016045f6e1f.dl.dropboxusercontent.com/cd/0/inline/A6hOfr3Hm-mSVCQVcWtqDT556mNR8x5KOgQPlhWhKcFEeuAzkOiPu3tr3llWX-J1oBSZSwp6yLy6hU_kS2PtUkZVpq-0kWquontkJvbk6D5E9ChQSQu-g7Ms3mwPP8LpdAc/file# [suivant]\n",
      "--2020-06-28 22:54:44--  https://uc6cc72b0afdaff16016045f6e1f.dl.dropboxusercontent.com/cd/0/inline/A6hOfr3Hm-mSVCQVcWtqDT556mNR8x5KOgQPlhWhKcFEeuAzkOiPu3tr3llWX-J1oBSZSwp6yLy6hU_kS2PtUkZVpq-0kWquontkJvbk6D5E9ChQSQu-g7Ms3mwPP8LpdAc/file\n",
      "Résolution de uc6cc72b0afdaff16016045f6e1f.dl.dropboxusercontent.com (uc6cc72b0afdaff16016045f6e1f.dl.dropboxusercontent.com)… 162.125.67.15, 2620:100:6023:15::a27d:430f\n",
      "Connexion à uc6cc72b0afdaff16016045f6e1f.dl.dropboxusercontent.com (uc6cc72b0afdaff16016045f6e1f.dl.dropboxusercontent.com)|162.125.67.15|:443… connecté.\n",
      "requête HTTP transmise, en attente de la réponse… 302 Found\n",
      "Emplacement : /cd/0/inline2/A6iJtPao-b0eiHgrNZICu3AvR_JhThlVW-UnpIpJJ0g5-enmGKTbIbYoXQkJQp9_zjtSs4wXBpQCfFdZA8Ee5gEzjoag1GcF1_aMwHF0eJ-fL0-a9xBcBUg05PWqIPn82AjN2mBiL1Ni5xXEArnGBaB7J5OPx0mILBE868Fm6Sbh92zV-2xy62_m9gSRYxPXb2o8ndDlfiDFi6oF5ZqmSOOs1exEs3wY_CfixNprP1ivnrjQiBmaKUbC7z1971NxG8fiJB2_SFT4g2--dshipXdlT6amHcMzyJLxrfBuur0VsDVn0-k2n_UC7XucFl6-Fy1GqNdhuVJUVlQTEMUum-6lnflWjoqKYXtegHAThaualA/file [suivant]\n",
      "--2020-06-28 22:54:45--  https://uc6cc72b0afdaff16016045f6e1f.dl.dropboxusercontent.com/cd/0/inline2/A6iJtPao-b0eiHgrNZICu3AvR_JhThlVW-UnpIpJJ0g5-enmGKTbIbYoXQkJQp9_zjtSs4wXBpQCfFdZA8Ee5gEzjoag1GcF1_aMwHF0eJ-fL0-a9xBcBUg05PWqIPn82AjN2mBiL1Ni5xXEArnGBaB7J5OPx0mILBE868Fm6Sbh92zV-2xy62_m9gSRYxPXb2o8ndDlfiDFi6oF5ZqmSOOs1exEs3wY_CfixNprP1ivnrjQiBmaKUbC7z1971NxG8fiJB2_SFT4g2--dshipXdlT6amHcMzyJLxrfBuur0VsDVn0-k2n_UC7XucFl6-Fy1GqNdhuVJUVlQTEMUum-6lnflWjoqKYXtegHAThaualA/file\n",
      "Réutilisation de la connexion existante à uc6cc72b0afdaff16016045f6e1f.dl.dropboxusercontent.com:443.\n",
      "requête HTTP transmise, en attente de la réponse… 200 OK\n",
      "Taille : 35116 (34K) [application/octet-stream]\n",
      "Enregistre : «t4gpd-0.1.0.tar.gz»\n",
      "\n",
      "t4gpd-0.1.0.tar.gz  100%[===================>]  34,29K  --.-KB/s    ds 0,05s   \n",
      "\n",
      "2020-06-28 22:54:46 (629 KB/s) - «t4gpd-0.1.0.tar.gz» enregistré [35116/35116]\n",
      "\n",
      "Processing ./t4gpd-0.1.0.tar.gz\n",
      "Building wheels for collected packages: t4gpd\n",
      "  Running setup.py bdist_wheel for t4gpd ... \u001b[?25ldone\n",
      "\u001b[?25h  Stored in directory: /home/tleduc/.cache/pip/wheels/4d/15/5c/817fdff97510529bb42d06c04f572b0dc012284ef0d982538f\n",
      "Successfully built t4gpd\n",
      "Installing collected packages: t4gpd\n",
      "Successfully installed t4gpd-0.1.0\n"
     ]
    }
   ],
   "source": [
    "!wget -O t4gpd-0.1.0.tar.gz  https://www.dropbox.com/s/mgz078nhrp0k1j0/t4gpd-0.1.0.tar.gz?dl=0\n",
    "!python3 -m pip install t4gpd-0.1.0.tar.gz"
   ]
  },
  {
   "cell_type": "code",
   "execution_count": 6,
   "metadata": {},
   "outputs": [
    {
     "name": "stdout",
     "output_type": "stream",
     "text": [
      "0.1.0\n"
     ]
    }
   ],
   "source": [
    "from t4gpd.Version import Version\n",
    "print(Version.number())"
   ]
  }
 ],
 "metadata": {
  "kernelspec": {
   "display_name": "Python 3",
   "language": "python",
   "name": "python3"
  },
  "language_info": {
   "codemirror_mode": {
    "name": "ipython",
    "version": 3
   },
   "file_extension": ".py",
   "mimetype": "text/x-python",
   "name": "python",
   "nbconvert_exporter": "python",
   "pygments_lexer": "ipython3",
   "version": "3.6.9"
  }
 },
 "nbformat": 4,
 "nbformat_minor": 2
}
